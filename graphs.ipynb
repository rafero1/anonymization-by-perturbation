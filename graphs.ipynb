{
 "cells": [
  {
   "cell_type": "markdown",
   "source": [
    "# Plotagem de Gráficos"
   ],
   "metadata": {}
  },
  {
   "cell_type": "code",
   "execution_count": 47,
   "source": [
    "import pandas as pd\r\n",
    "import numpy as np\r\n",
    "import matplotlib.pyplot as plt\r\n",
    "\r\n",
    "# definição dos tipos\r\n",
    "dtype = {\r\n",
    "    \"municipioCaso\"                  : \"str\",\r\n",
    "    \"dataNascimento\"                 : \"str\",\r\n",
    "    \"comorbidadeCardiovascularSivep\" : \"str\",\r\n",
    "    \"comorbidadeDiabetesSivep\"       : \"str\",\r\n",
    "}\r\n",
    "\r\n",
    "semi_id = [\r\n",
    "    \"municipioCaso\",\r\n",
    "    \"dataNascimento\",\r\n",
    "]\r\n",
    "\r\n",
    "# definição das colunas de data\r\n",
    "dates = [\r\n",
    "    \"dataNascimento\",\r\n",
    "]\r\n",
    "date_parser = lambda x: pd.to_datetime(x, format=\"%Y-%m-%d\", errors = 'coerce')\r\n",
    "\r\n",
    "df = pd.read_csv('Dataset_Covid_CE_Clean.csv', dtype=dtype, parse_dates=dates, date_parser=date_parser)\r\n",
    "df_anon = pd.read_csv('Dataset_Covid_CE_Anon_Per.csv', dtype=dtype, parse_dates=dates, date_parser=date_parser)\r\n",
    "df_municipios = pd.read_csv('ce-regions-format.csv')\r\n",
    "\r\n",
    "# %matplotlib inline\r\n"
   ],
   "outputs": [],
   "metadata": {}
  },
  {
   "cell_type": "markdown",
   "source": [
    "## Histograma dataNascimento"
   ],
   "metadata": {}
  },
  {
   "cell_type": "code",
   "execution_count": 48,
   "source": [
    "dates_by_month = df[['dataNascimento']].groupby([df['dataNascimento'].dt.month]).count().rename(columns={'dataNascimento':'count'})\r\n",
    "dates_by_month\r\n",
    "\r\n",
    "dates_by_month_anon = df_anon[['dataNascimento']].groupby([df_anon['dataNascimento'].dt.month]).count().rename(columns={'dataNascimento':'count'})\r\n",
    "dates_by_month_anon\r\n",
    "\r\n",
    "x = np.arange(len(dates_by_month.index))\r\n",
    "width = 1\r\n",
    "\r\n",
    "fig, ax = plt.subplots(figsize=(8, 5))\r\n",
    "rects1 = ax.bar(x, dates_by_month['count'], width, label='Original', edgecolor='blue', alpha=0.5)\r\n",
    "rects2 = ax.bar(x, dates_by_month_anon['count'], width, label='Perturbado', color='green', edgecolor='green', alpha=0.5)\r\n",
    "\r\n",
    "ax.set_ylabel('count')\r\n",
    "ax.set_xlabel('Mês')\r\n",
    "ax.set_title('dataNascimento agrupado por mês')\r\n",
    "ax.set_xticks(x)\r\n",
    "ax.set_xticklabels(dates_by_month.index)\r\n",
    "ax.legend(bbox_to_anchor=(1.28, 1))\r\n",
    "fig.tight_layout()\r\n",
    "plt.show()"
   ],
   "outputs": [
    {
     "output_type": "display_data",
     "data": {
      "text/plain": [
       "<Figure size 576x360 with 1 Axes>"
      ],
      "image/png": "[encoded data removed]"
     },
     "metadata": {
      "needs_background": "light"
     }
    }
   ],
   "metadata": {}
  },
  {
   "cell_type": "code",
   "execution_count": 49,
   "source": [
    "df[['dataNascimento']].groupby([df['dataNascimento'].dt.year]).count().rename(columns={'dataNascimento':'count'}).nlargest(5, 'count')"
   ],
   "outputs": [
    {
     "output_type": "execute_result",
     "data": {
      "text/plain": [
       "                count\n",
       "dataNascimento       \n",
       "1982            21556\n",
       "1995            21100\n",
       "1988            21084\n",
       "1989            21062\n",
       "1985            20922"
      ],
      "text/html": [
       "<div>\n",
       "<style scoped>\n",
       "    .dataframe tbody tr th:only-of-type {\n",
       "        vertical-align: middle;\n",
       "    }\n",
       "\n",
       "    .dataframe tbody tr th {\n",
       "        vertical-align: top;\n",
       "    }\n",
       "\n",
       "    .dataframe thead th {\n",
       "        text-align: right;\n",
       "    }\n",
       "</style>\n",
       "<table border=\"1\" class=\"dataframe\">\n",
       "  <thead>\n",
       "    <tr style=\"text-align: right;\">\n",
       "      <th></th>\n",
       "      <th>count</th>\n",
       "    </tr>\n",
       "    <tr>\n",
       "      <th>dataNascimento</th>\n",
       "      <th></th>\n",
       "    </tr>\n",
       "  </thead>\n",
       "  <tbody>\n",
       "    <tr>\n",
       "      <th>1982</th>\n",
       "      <td>21556</td>\n",
       "    </tr>\n",
       "    <tr>\n",
       "      <th>1995</th>\n",
       "      <td>21100</td>\n",
       "    </tr>\n",
       "    <tr>\n",
       "      <th>1988</th>\n",
       "      <td>21084</td>\n",
       "    </tr>\n",
       "    <tr>\n",
       "      <th>1989</th>\n",
       "      <td>21062</td>\n",
       "    </tr>\n",
       "    <tr>\n",
       "      <th>1985</th>\n",
       "      <td>20922</td>\n",
       "    </tr>\n",
       "  </tbody>\n",
       "</table>\n",
       "</div>"
      ]
     },
     "metadata": {},
     "execution_count": 49
    }
   ],
   "metadata": {}
  },
  {
   "cell_type": "code",
   "execution_count": 50,
   "source": [
    "df_anon[['dataNascimento']].groupby([df_anon['dataNascimento'].dt.year]).count().rename(columns={'dataNascimento':'count'}).nlargest(5, 'count')"
   ],
   "outputs": [
    {
     "output_type": "execute_result",
     "data": {
      "text/plain": [
       "                count\n",
       "dataNascimento       \n",
       "1982            21390\n",
       "1981            21055\n",
       "1988            21004\n",
       "1995            20869\n",
       "1987            20649"
      ],
      "text/html": [
       "<div>\n",
       "<style scoped>\n",
       "    .dataframe tbody tr th:only-of-type {\n",
       "        vertical-align: middle;\n",
       "    }\n",
       "\n",
       "    .dataframe tbody tr th {\n",
       "        vertical-align: top;\n",
       "    }\n",
       "\n",
       "    .dataframe thead th {\n",
       "        text-align: right;\n",
       "    }\n",
       "</style>\n",
       "<table border=\"1\" class=\"dataframe\">\n",
       "  <thead>\n",
       "    <tr style=\"text-align: right;\">\n",
       "      <th></th>\n",
       "      <th>count</th>\n",
       "    </tr>\n",
       "    <tr>\n",
       "      <th>dataNascimento</th>\n",
       "      <th></th>\n",
       "    </tr>\n",
       "  </thead>\n",
       "  <tbody>\n",
       "    <tr>\n",
       "      <th>1982</th>\n",
       "      <td>21390</td>\n",
       "    </tr>\n",
       "    <tr>\n",
       "      <th>1981</th>\n",
       "      <td>21055</td>\n",
       "    </tr>\n",
       "    <tr>\n",
       "      <th>1988</th>\n",
       "      <td>21004</td>\n",
       "    </tr>\n",
       "    <tr>\n",
       "      <th>1995</th>\n",
       "      <td>20869</td>\n",
       "    </tr>\n",
       "    <tr>\n",
       "      <th>1987</th>\n",
       "      <td>20649</td>\n",
       "    </tr>\n",
       "  </tbody>\n",
       "</table>\n",
       "</div>"
      ]
     },
     "metadata": {},
     "execution_count": 50
    }
   ],
   "metadata": {}
  },
  {
   "cell_type": "markdown",
   "source": [
    "## Histograma municipioCaso"
   ],
   "metadata": {}
  },
  {
   "cell_type": "code",
   "execution_count": 51,
   "source": [
    "regions_dict = {}\r\n",
    "for name, group in df_municipios.groupby('regiaoPlanejamentoCaso'):\r\n",
    "    regions_dict[name] = group['municipioCaso'].to_list()\r\n",
    "regions = regions_dict.keys()\r\n",
    "\r\n",
    "cities = df['municipioCaso'].unique()\r\n",
    "cities_sum = df['municipioCaso'].value_counts()\r\n",
    "populations = []\r\n",
    "\r\n",
    "cities_anon = df_anon['municipioCaso'].unique()\r\n",
    "cities_sum_anon = df_anon['municipioCaso'].value_counts()\r\n",
    "populations_anon = []\r\n",
    "\r\n",
    "for region in regions_dict:\r\n",
    "    reg_sum = 0\r\n",
    "    reg_anon_sum = 0\r\n",
    "    for city in regions_dict[region]:\r\n",
    "        if city in cities: \r\n",
    "            reg_sum += cities_sum[city]\r\n",
    "        if city in cities_anon: \r\n",
    "            reg_anon_sum += cities_sum_anon[city]\r\n",
    "    populations.append(reg_sum)\r\n",
    "    populations_anon.append(reg_anon_sum)\r\n",
    "\r\n",
    "x = np.arange(len(regions))\r\n",
    "width = 1\r\n",
    "\r\n",
    "fig, ax = plt.subplots(figsize=(8, 5))\r\n",
    "rects1 = ax.bar(x, populations, width, label='Original', edgecolor='blue', alpha=0.5)\r\n",
    "rects2 = ax.bar(x, populations_anon, width, label='Perturbado', color='green', edgecolor='green', alpha=0.5)\r\n",
    "\r\n",
    "ax.set_ylabel('count')\r\n",
    "ax.set_xlabel('Região')\r\n",
    "ax.set_title('municipioCaso agrupado por região')\r\n",
    "ax.set_xticks(x)\r\n",
    "ax.set_xticklabels(regions)\r\n",
    "ax.legend()\r\n",
    "fig.tight_layout()\r\n",
    "fig.autofmt_xdate()\r\n",
    "plt.show()"
   ],
   "outputs": [
    {
     "output_type": "display_data",
     "data": {
      "text/plain": [
       "<Figure size 576x360 with 1 Axes>"
      ],
      "image/png": "[encoded data removed]"
     },
     "metadata": {
      "needs_background": "light"
     }
    }
   ],
   "metadata": {}
  },
  {
   "cell_type": "code",
   "execution_count": 54,
   "source": [
    "df['municipioCaso'].value_counts().nlargest(10)"
   ],
   "outputs": [
    {
     "output_type": "execute_result",
     "data": {
      "text/plain": [
       "FORTALEZA            238318\n",
       "JUAZEIRO DO NORTE     39516\n",
       "CRATO                 28422\n",
       "SOBRAL                27870\n",
       "MARACANAU             22983\n",
       "IGUATU                20740\n",
       "CRATEUS               18475\n",
       "CAUCAIA               16786\n",
       "BREJO SANTO           14458\n",
       "CAMOCIM               11334\n",
       "Name: municipioCaso, dtype: int64"
      ]
     },
     "metadata": {},
     "execution_count": 54
    }
   ],
   "metadata": {}
  },
  {
   "cell_type": "code",
   "execution_count": 55,
   "source": [
    "df_anon['municipioCaso'].value_counts().nlargest(10)\r\n"
   ],
   "outputs": [
    {
     "output_type": "execute_result",
     "data": {
      "text/plain": [
       "FORTALEZA     17122\n",
       "MARACANAU     16997\n",
       "CAUCAIA       16685\n",
       "EUSEBIO       15962\n",
       "MARANGUAPE    15440\n",
       "ITAITINGA     14871\n",
       "PACATUBA      14751\n",
       "AQUIRAZ       14509\n",
       "GUAIUBA       14166\n",
       "HORIZONTE     13627\n",
       "Name: municipioCaso, dtype: int64"
      ]
     },
     "metadata": {},
     "execution_count": 55
    }
   ],
   "metadata": {}
  }
 ],
 "metadata": {
  "interpreter": {
   "hash": "e93f6d491c598f50814dc5f717749806d92b79f46498a782631365d42368f0bc"
  },
  "kernelspec": {
   "name": "python3",
   "display_name": "Python 3.8.8 64-bit ('base': conda)"
  },
  "language_info": {
   "name": "python",
   "version": "3.8.8",
   "mimetype": "text/x-python",
   "codemirror_mode": {
    "name": "ipython",
    "version": 3
   },
   "pygments_lexer": "ipython3",
   "nbconvert_exporter": "python",
   "file_extension": ".py"
  }
 },
 "nbformat": 4,
 "nbformat_minor": 2
}